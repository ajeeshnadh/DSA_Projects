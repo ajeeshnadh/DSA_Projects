{
  "nbformat": 4,
  "nbformat_minor": 0,
  "metadata": {
    "colab": {
      "provenance": [],
      "authorship_tag": "ABX9TyPul0DKKXBmBxl9df8v1cYB",
      "include_colab_link": true
    },
    "kernelspec": {
      "name": "python3",
      "display_name": "Python 3"
    },
    "language_info": {
      "name": "python"
    }
  },
  "cells": [
    {
      "cell_type": "markdown",
      "metadata": {
        "id": "view-in-github",
        "colab_type": "text"
      },
      "source": [
        "<a href=\"https://colab.research.google.com/github/ajeeshnadh/DSA_Projects/blob/main/Python_Addnl_Assessment_DSA_B7.ipynb\" target=\"_parent\"><img src=\"https://colab.research.google.com/assets/colab-badge.svg\" alt=\"Open In Colab\"/></a>"
      ]
    },
    {
      "cell_type": "markdown",
      "source": [
        "1.**Grocery** Store Billing"
      ],
      "metadata": {
        "id": "L6Ie77UNeJhW"
      }
    },
    {
      "cell_type": "code",
      "source": [
        "total = 0  # To keep track of the total bill\n",
        "\n",
        "print(\"Enter item names and prices (type 'done' when finished):\")\n",
        "\n",
        "while True:\n",
        "    item = input(\"Item name: \")\n",
        "\n",
        "    if item.lower() == 'done':\n",
        "        break\n",
        "\n",
        "    try:\n",
        "        price = float(input(f\"Price of {item}: ₹\"))\n",
        "        total += price\n",
        "    except ValueError:\n",
        "        print(\"Invalid price. Please enter a number.\")\n",
        "\n",
        "# Apply discount if total > ₹500\n",
        "if total > 500:\n",
        "    discount = total * 0.10\n",
        "    total -= discount\n",
        "    print(f\"A 10% discount of ₹{discount:.2f} has been applied.\")\n",
        "\n",
        "print(f\"Total bill: ₹{total:.2f}\")\n"
      ],
      "metadata": {
        "colab": {
          "base_uri": "https://localhost:8080/"
        },
        "id": "EgBp35Z4dp8Z",
        "outputId": "6b2dfe81-110d-485d-ec87-b76004fda142"
      },
      "execution_count": null,
      "outputs": [
        {
          "output_type": "stream",
          "name": "stdout",
          "text": [
            "Enter item names and prices (type 'done' when finished):\n",
            "Item name: Carrot \n",
            "Price of Carrot : ₹32\n",
            "Item name: done\n",
            "Total bill: ₹32.00\n"
          ]
        }
      ]
    },
    {
      "cell_type": "markdown",
      "source": [
        "Exam Result Calculator"
      ],
      "metadata": {
        "id": "QRs3A-7Tehme"
      }
    },
    {
      "cell_type": "code",
      "source": [
        "marks = []\n",
        "\n",
        "print(\"Enter marks for 5 subjects (out of 100):\")\n",
        "for i in range(1, 6):\n",
        "    while True:\n",
        "        try:\n",
        "            mark = float(input(f\"Subject {i}: \"))\n",
        "            if 0 <= mark <= 100:\n",
        "                marks.append(mark)\n",
        "                break\n",
        "            else:\n",
        "                print(\"Marks should be between 0 and 100.\")\n",
        "        except ValueError:\n",
        "            print(\"Invalid input. Please enter a number.\")\n",
        "\n",
        "total = sum(marks)\n",
        "percentage = total / 5\n",
        "\n",
        "# Determine grade\n",
        "if percentage >= 90:\n",
        "    grade = 'A'\n",
        "elif percentage >= 75:\n",
        "    grade = 'B'\n",
        "elif percentage >= 50:\n",
        "    grade = 'C'\n",
        "else:\n",
        "    grade = 'Fail'\n",
        "\n",
        "print(f\"\\nTotal Marks: {total}/500\")\n",
        "print(f\"Percentage: {percentage:.2f}%\")\n",
        "print(f\"Grade: {grade}\")\n"
      ],
      "metadata": {
        "colab": {
          "base_uri": "https://localhost:8080/"
        },
        "id": "F48I2e0pdp39",
        "outputId": "73d08f5c-50dd-44d3-e8cf-e9a0ee99dd4a"
      },
      "execution_count": null,
      "outputs": [
        {
          "output_type": "stream",
          "name": "stdout",
          "text": [
            "Enter marks for 5 subjects (out of 100):\n",
            "Subject 1: 88\n",
            "Subject 2: 85\n",
            "Subject 3: 42\n",
            "Subject 4: 34\n",
            "Subject 5: 21\n",
            "\n",
            "Total Marks: 270.0/500\n",
            "Percentage: 54.00%\n",
            "Grade: C\n"
          ]
        }
      ]
    },
    {
      "cell_type": "markdown",
      "source": [
        "2. Exam Result **Calculator**"
      ],
      "metadata": {
        "id": "FFzT_YZ6h2eP"
      }
    },
    {
      "cell_type": "code",
      "metadata": {
        "colab": {
          "base_uri": "https://localhost:8080/"
        },
        "id": "975e09bc",
        "outputId": "a0e75efb-b805-432d-d676-68928dc32f7c"
      },
      "source": [
        "marks = []\n",
        "\n",
        "print(\"Enter marks for 5 subjects (out of 100):\")\n",
        "for i in range(1, 6):\n",
        "    while True:\n",
        "        try:\n",
        "            mark = float(input(f\"Subject {i}: \"))\n",
        "            if 0 <= mark <= 100:\n",
        "                marks.append(mark)\n",
        "                break\n",
        "            else:\n",
        "                print(\"Marks should be between 0 and 100.\")\n",
        "        except ValueError:\n",
        "            print(\"Invalid input. Please enter a number.\")\n",
        "\n",
        "total = sum(marks)\n",
        "percentage = total / 5\n",
        "\n",
        "# Determine grade\n",
        "if percentage >= 90:\n",
        "    grade = 'A'\n",
        "elif percentage >= 75:\n",
        "    grade = 'B'\n",
        "elif percentage >= 50:\n",
        "    grade = 'C'\n",
        "else:\n",
        "    grade = 'Fail'\n",
        "\n",
        "print(f\"\\nTotal Marks: {total}/500\")\n",
        "print(f\"Percentage: {percentage:.2f}%\")\n",
        "print(f\"Grade: {grade}\")"
      ],
      "execution_count": null,
      "outputs": [
        {
          "output_type": "stream",
          "name": "stdout",
          "text": [
            "Enter marks for 5 subjects (out of 100):\n",
            "Subject 1: 56\n",
            "Subject 2: 56\n",
            "Subject 3: 21\n",
            "Subject 4: 76\n",
            "Subject 5: 84\n",
            "\n",
            "Total Marks: 293.0/500\n",
            "Percentage: 58.60%\n",
            "Grade: C\n"
          ]
        }
      ]
    },
    {
      "cell_type": "markdown",
      "source": [
        "3. ATM **Simulation**"
      ],
      "metadata": {
        "id": "XUc8neiMhcr5"
      }
    },
    {
      "cell_type": "code",
      "source": [
        "balance = 1000  # Starting balance\n",
        "\n",
        "def show_menu():\n",
        "    print(\"\\n--- ATM Menu ---\")\n",
        "    print(\"1. Deposit\")\n",
        "    print(\"2. Withdraw\")\n",
        "    print(\"3. Check Balance\")\n",
        "    print(\"4. Exit\")\n",
        "\n",
        "while True:\n",
        "    show_menu()\n",
        "    choice = input(\"Choose an option (1-4): \")\n",
        "\n",
        "    if choice == '1':\n",
        "        try:\n",
        "            amount = float(input(\"Enter amount to deposit: ₹\"))\n",
        "            if amount > 0:\n",
        "                balance += amount\n",
        "                print(f\"₹{amount:.2f} deposited successfully.\")\n",
        "            else:\n",
        "                print(\"Please enter a positive amount.\")\n",
        "        except ValueError:\n",
        "            print(\"Invalid input. Please enter a number.\")\n",
        "\n",
        "    elif choice == '2':\n",
        "        try:\n",
        "            amount = float(input(\"Enter amount to withdraw: ₹\"))\n",
        "            if amount <= 0:\n",
        "                print(\"Please enter a positive amount.\")\n",
        "            elif amount > balance:\n",
        "                print(\"Insufficient balance.\")\n",
        "            else:\n",
        "                balance -= amount\n",
        "                print(f\"₹{amount:.2f} withdrawn successfully.\")\n",
        "        except ValueError:\n",
        "            print(\"Invalid input. Please enter a number.\")\n",
        "\n",
        "    elif choice == '3':\n",
        "        print(f\"Current balance: ₹{balance:.2f}\")\n",
        "\n",
        "    elif choice == '4':\n",
        "        print(\"Thank you for using the ATM. Goodbye!\")\n",
        "        break\n",
        "\n",
        "    else:\n",
        "        print(\"Invalid option. Please choose between 1 and 4.\")\n"
      ],
      "metadata": {
        "colab": {
          "base_uri": "https://localhost:8080/"
        },
        "id": "HgTv3oT1g44i",
        "outputId": "68ed3798-d7fe-43de-f94d-2a89c3aeb8d0"
      },
      "execution_count": null,
      "outputs": [
        {
          "output_type": "stream",
          "name": "stdout",
          "text": [
            "\n",
            "--- ATM Menu ---\n",
            "1. Deposit\n",
            "2. Withdraw\n",
            "3. Check Balance\n",
            "4. Exit\n",
            "Choose an option (1-4): 3\n",
            "Current balance: ₹1000.00\n",
            "\n",
            "--- ATM Menu ---\n",
            "1. Deposit\n",
            "2. Withdraw\n",
            "3. Check Balance\n",
            "4. Exit\n",
            "Choose an option (1-4): 3\n",
            "Current balance: ₹1000.00\n",
            "\n",
            "--- ATM Menu ---\n",
            "1. Deposit\n",
            "2. Withdraw\n",
            "3. Check Balance\n",
            "4. Exit\n",
            "Choose an option (1-4): 2\n",
            "Enter amount to withdraw: ₹1000\n",
            "₹1000.00 withdrawn successfully.\n",
            "\n",
            "--- ATM Menu ---\n",
            "1. Deposit\n",
            "2. Withdraw\n",
            "3. Check Balance\n",
            "4. Exit\n",
            "Choose an option (1-4): 2\n",
            "Enter amount to withdraw: ₹2\n",
            "Insufficient balance.\n",
            "\n",
            "--- ATM Menu ---\n",
            "1. Deposit\n",
            "2. Withdraw\n",
            "3. Check Balance\n",
            "4. Exit\n",
            "Choose an option (1-4): 1\n",
            "Enter amount to deposit: ₹500\n",
            "₹500.00 deposited successfully.\n",
            "\n",
            "--- ATM Menu ---\n",
            "1. Deposit\n",
            "2. Withdraw\n",
            "3. Check Balance\n",
            "4. Exit\n",
            "Choose an option (1-4): 1\n",
            "Enter amount to deposit: ₹1\n",
            "₹1.00 deposited successfully.\n",
            "\n",
            "--- ATM Menu ---\n",
            "1. Deposit\n",
            "2. Withdraw\n",
            "3. Check Balance\n",
            "4. Exit\n",
            "Choose an option (1-4): 4\n",
            "Thank you for using the ATM. Goodbye!\n"
          ]
        }
      ]
    },
    {
      "cell_type": "markdown",
      "source": [
        "4. Cricket Score **Tracker**"
      ],
      "metadata": {
        "id": "6zv4Dj96h9o2"
      }
    },
    {
      "cell_type": "code",
      "source": [
        "# Step 1: Store player scores in a dictionary\n",
        "player_scores = {\n",
        "    \"Rohit Sharma\": 72,\n",
        "    \"Virat Kohli\": 88,\n",
        "    \"KL Rahul\": 45,\n",
        "    \"Shubman Gill\": 64,\n",
        "    \"Hardik Pandya\": 37\n",
        "}\n",
        "\n",
        "# Step 2: Find and print the top scorer’s name and score\n",
        "top_scorer = max(player_scores, key=player_scores.get)\n",
        "print(f\"Top Scorer: {top_scorer} with {player_scores[top_scorer]} runs.\")\n",
        "\n",
        "# Step 3: Update a player’s score after a match\n",
        "# Example: Update KL Rahul's score by adding 50 runs\n",
        "player_scores[\"KL Rahul\"] += 50\n",
        "print(f\"Updated Score for KL Rahul: {player_scores['KL Rahul']} runs.\")\n",
        "\n",
        "# Optional: Display all players and their updated scores\n",
        "print(\"\\nAll Players and Scores:\")\n",
        "for player, score in player_scores.items():\n",
        "    print(f\"{player}: {score} runs\")\n"
      ],
      "metadata": {
        "colab": {
          "base_uri": "https://localhost:8080/"
        },
        "id": "XIwMVFUAiFcR",
        "outputId": "b93e667d-7b32-4140-9832-d2734f76a248"
      },
      "execution_count": null,
      "outputs": [
        {
          "output_type": "stream",
          "name": "stdout",
          "text": [
            "Top Scorer: Virat Kohli with 88 runs.\n",
            "Updated Score for KL Rahul: 95 runs.\n",
            "\n",
            "All Players and Scores:\n",
            "Rohit Sharma: 72 runs\n",
            "Virat Kohli: 88 runs\n",
            "KL Rahul: 95 runs\n",
            "Shubman Gill: 64 runs\n",
            "Hardik Pandya: 37 runs\n"
          ]
        }
      ]
    },
    {
      "cell_type": "markdown",
      "source": [
        "**5.Restaurant Order System**"
      ],
      "metadata": {
        "id": "uyJazaDGi0p6"
      }
    },
    {
      "cell_type": "code",
      "source": [
        "# Restaurant Menu\n",
        "menu = {\n",
        "    \"Pizza\": 250,\n",
        "    \"Burger\": 150,\n",
        "    \"Pasta\": 200,\n",
        "    \"Salad\": 100,\n",
        "    \"Fries\": 80\n",
        "}\n",
        "\n",
        "print(\"------ Welcome to the Restaurant ------\")\n",
        "print(\"Menu:\")\n",
        "for item, price in menu.items():\n",
        "    print(f\"{item}: ₹{price}\")\n",
        "\n",
        "# Initialize order list and total\n",
        "order_list = []\n",
        "total = 0\n",
        "\n",
        "while True:\n",
        "    order = input(\"\\nEnter item to order (or type 'done' to finish): \").title()\n",
        "\n",
        "    if order == 'Done':\n",
        "        break\n",
        "    elif order in menu:\n",
        "        order_list.append(order)\n",
        "        total += menu[order]\n",
        "        print(f\"{order} added to order.\")\n",
        "    else:\n",
        "        print(\"Item not on menu. Please try again.\")\n",
        "\n",
        "# Apply discount if Pizza is in order\n",
        "if \"Pizza\" in order_list:\n",
        "    print(\"\\n₹50 off on Pizza order!\")\n",
        "    total -= 50\n",
        "\n",
        "# Print final bill\n",
        "print(\"\\n------ Final Bill ------\")\n",
        "for item in order_list:\n",
        "    print(f\"{item}: ₹{menu[item]}\")\n",
        "print(f\"Total Amount: ₹{total}\")\n"
      ],
      "metadata": {
        "colab": {
          "base_uri": "https://localhost:8080/"
        },
        "id": "BC_HDqmFiGS9",
        "outputId": "baf241ff-f203-492a-93bb-50754d869545"
      },
      "execution_count": null,
      "outputs": [
        {
          "output_type": "stream",
          "name": "stdout",
          "text": [
            "------ Welcome to the Restaurant ------\n",
            "Menu:\n",
            "Pizza: ₹250\n",
            "Burger: ₹150\n",
            "Pasta: ₹200\n",
            "Salad: ₹100\n",
            "Fries: ₹80\n",
            "\n",
            "Enter item to order (or type 'done' to finish): pizza\n",
            "Pizza added to order.\n",
            "\n",
            "Enter item to order (or type 'done' to finish): done\n",
            "\n",
            "₹50 off on Pizza order!\n",
            "\n",
            "------ Final Bill ------\n",
            "Pizza: ₹250\n",
            "Total Amount: ₹200\n"
          ]
        }
      ]
    },
    {
      "cell_type": "markdown",
      "source": [
        "**6. Temperature Conversion Tool**"
      ],
      "metadata": {
        "id": "eyft4lfFjn1d"
      }
    },
    {
      "cell_type": "code",
      "source": [
        "# Ask user for temperature in Celsius\n",
        "celsius = float(input(\"Enter temperature in Celsius: \"))\n",
        "\n",
        "# Convert to Fahrenheit\n",
        "fahrenheit = (celsius * 9/5) + 32\n",
        "\n",
        "# Display result\n",
        "print(f\"{celsius}°C is equal to {fahrenheit}°F\")\n"
      ],
      "metadata": {
        "colab": {
          "base_uri": "https://localhost:8080/"
        },
        "id": "UlmwG2CUiGHw",
        "outputId": "0dc3945b-e601-4848-bffc-8a40f511e7c9"
      },
      "execution_count": null,
      "outputs": [
        {
          "output_type": "stream",
          "name": "stdout",
          "text": [
            "Enter temperature in Celsius: 31\n",
            "31.0°C is equal to 87.8°F\n"
          ]
        }
      ]
    },
    {
      "cell_type": "markdown",
      "source": [
        "**7. Online Shopping Cart**"
      ],
      "metadata": {
        "id": "waIPz-rSkAPq"
      }
    },
    {
      "cell_type": "code",
      "source": [
        "def shopping_cart():\n",
        "    cart = []\n",
        "\n",
        "    print(\"Welcome to the Online Shopping Cart!\")\n",
        "    print(\"Type 'add [item]' to add items.\")\n",
        "    print(\"Type 'remove [item]' to remove items.\")\n",
        "    print(\"Type 'view' to see your cart.\")\n",
        "    print(\"Type 'checkout' to exit.\")\n",
        "\n",
        "    while True:\n",
        "        command = input(\"\\nEnter command: \").strip().lower()\n",
        "\n",
        "        if command.startswith(\"add \"):\n",
        "            item = command[4:].strip()\n",
        "            if item:\n",
        "                cart.append(item)\n",
        "                print(f\"Added '{item}' to cart.\")\n",
        "            else:\n",
        "                print(\"Please specify an item to add.\")\n",
        "\n",
        "        elif command.startswith(\"remove \"):\n",
        "            item = command[7:].strip()\n",
        "            if item in cart:\n",
        "                cart.remove(item)\n",
        "                print(f\"Removed '{item}' from cart.\")\n",
        "            else:\n",
        "                print(f\"'{item}' is not in the cart.\")\n",
        "\n",
        "        elif command == \"view\":\n",
        "            if cart:\n",
        "                print(\"Your cart contains:\")\n",
        "                for i, item in enumerate(cart, start=1):\n",
        "                    print(f\"{i}. {item}\")\n",
        "            else:\n",
        "                print(\"Your cart is empty.\")\n",
        "\n",
        "        elif command == \"checkout\":\n",
        "            print(\"\\nChecking out...\")\n",
        "            print(\"Final cart:\", cart)\n",
        "            print(\"Thank you for shopping!\")\n",
        "            break\n",
        "\n",
        "        else:\n",
        "            print(\"Unknown command. Please try again.\")\n",
        "\n",
        "# Run the shopping cart\n",
        "shopping_cart()\n"
      ],
      "metadata": {
        "colab": {
          "base_uri": "https://localhost:8080/",
          "height": 408
        },
        "id": "vrY6yBs3kSg7",
        "outputId": "15271079-0b14-4fe8-cafb-4d543b878f6e"
      },
      "execution_count": null,
      "outputs": [
        {
          "output_type": "stream",
          "name": "stdout",
          "text": [
            "Welcome to the Online Shopping Cart!\n",
            "Type 'add [item]' to add items.\n",
            "Type 'remove [item]' to remove items.\n",
            "Type 'view' to see your cart.\n",
            "Type 'checkout' to exit.\n"
          ]
        },
        {
          "output_type": "error",
          "ename": "KeyboardInterrupt",
          "evalue": "Interrupted by user",
          "traceback": [
            "\u001b[0;31m---------------------------------------------------------------------------\u001b[0m",
            "\u001b[0;31mKeyboardInterrupt\u001b[0m                         Traceback (most recent call last)",
            "\u001b[0;32m/tmp/ipython-input-1261711930.py\u001b[0m in \u001b[0;36m<cell line: 0>\u001b[0;34m()\u001b[0m\n\u001b[1;32m     45\u001b[0m \u001b[0;34m\u001b[0m\u001b[0m\n\u001b[1;32m     46\u001b[0m \u001b[0;31m# Run the shopping cart\u001b[0m\u001b[0;34m\u001b[0m\u001b[0;34m\u001b[0m\u001b[0m\n\u001b[0;32m---> 47\u001b[0;31m \u001b[0mshopping_cart\u001b[0m\u001b[0;34m(\u001b[0m\u001b[0;34m)\u001b[0m\u001b[0;34m\u001b[0m\u001b[0;34m\u001b[0m\u001b[0m\n\u001b[0m",
            "\u001b[0;32m/tmp/ipython-input-1261711930.py\u001b[0m in \u001b[0;36mshopping_cart\u001b[0;34m()\u001b[0m\n\u001b[1;32m      9\u001b[0m \u001b[0;34m\u001b[0m\u001b[0m\n\u001b[1;32m     10\u001b[0m     \u001b[0;32mwhile\u001b[0m \u001b[0;32mTrue\u001b[0m\u001b[0;34m:\u001b[0m\u001b[0;34m\u001b[0m\u001b[0;34m\u001b[0m\u001b[0m\n\u001b[0;32m---> 11\u001b[0;31m         \u001b[0mcommand\u001b[0m \u001b[0;34m=\u001b[0m \u001b[0minput\u001b[0m\u001b[0;34m(\u001b[0m\u001b[0;34m\"\\nEnter command: \"\u001b[0m\u001b[0;34m)\u001b[0m\u001b[0;34m.\u001b[0m\u001b[0mstrip\u001b[0m\u001b[0;34m(\u001b[0m\u001b[0;34m)\u001b[0m\u001b[0;34m.\u001b[0m\u001b[0mlower\u001b[0m\u001b[0;34m(\u001b[0m\u001b[0;34m)\u001b[0m\u001b[0;34m\u001b[0m\u001b[0;34m\u001b[0m\u001b[0m\n\u001b[0m\u001b[1;32m     12\u001b[0m \u001b[0;34m\u001b[0m\u001b[0m\n\u001b[1;32m     13\u001b[0m         \u001b[0;32mif\u001b[0m \u001b[0mcommand\u001b[0m\u001b[0;34m.\u001b[0m\u001b[0mstartswith\u001b[0m\u001b[0;34m(\u001b[0m\u001b[0;34m\"add \"\u001b[0m\u001b[0;34m)\u001b[0m\u001b[0;34m:\u001b[0m\u001b[0;34m\u001b[0m\u001b[0;34m\u001b[0m\u001b[0m\n",
            "\u001b[0;32m/usr/local/lib/python3.12/dist-packages/ipykernel/kernelbase.py\u001b[0m in \u001b[0;36mraw_input\u001b[0;34m(self, prompt)\u001b[0m\n\u001b[1;32m   1175\u001b[0m                 \u001b[0;34m\"raw_input was called, but this frontend does not support input requests.\"\u001b[0m\u001b[0;34m\u001b[0m\u001b[0;34m\u001b[0m\u001b[0m\n\u001b[1;32m   1176\u001b[0m             )\n\u001b[0;32m-> 1177\u001b[0;31m         return self._input_request(\n\u001b[0m\u001b[1;32m   1178\u001b[0m             \u001b[0mstr\u001b[0m\u001b[0;34m(\u001b[0m\u001b[0mprompt\u001b[0m\u001b[0;34m)\u001b[0m\u001b[0;34m,\u001b[0m\u001b[0;34m\u001b[0m\u001b[0;34m\u001b[0m\u001b[0m\n\u001b[1;32m   1179\u001b[0m             \u001b[0mself\u001b[0m\u001b[0;34m.\u001b[0m\u001b[0m_parent_ident\u001b[0m\u001b[0;34m[\u001b[0m\u001b[0;34m\"shell\"\u001b[0m\u001b[0;34m]\u001b[0m\u001b[0;34m,\u001b[0m\u001b[0;34m\u001b[0m\u001b[0;34m\u001b[0m\u001b[0m\n",
            "\u001b[0;32m/usr/local/lib/python3.12/dist-packages/ipykernel/kernelbase.py\u001b[0m in \u001b[0;36m_input_request\u001b[0;34m(self, prompt, ident, parent, password)\u001b[0m\n\u001b[1;32m   1217\u001b[0m             \u001b[0;32mexcept\u001b[0m \u001b[0mKeyboardInterrupt\u001b[0m\u001b[0;34m:\u001b[0m\u001b[0;34m\u001b[0m\u001b[0;34m\u001b[0m\u001b[0m\n\u001b[1;32m   1218\u001b[0m                 \u001b[0;31m# re-raise KeyboardInterrupt, to truncate traceback\u001b[0m\u001b[0;34m\u001b[0m\u001b[0;34m\u001b[0m\u001b[0m\n\u001b[0;32m-> 1219\u001b[0;31m                 \u001b[0;32mraise\u001b[0m \u001b[0mKeyboardInterrupt\u001b[0m\u001b[0;34m(\u001b[0m\u001b[0;34m\"Interrupted by user\"\u001b[0m\u001b[0;34m)\u001b[0m \u001b[0;32mfrom\u001b[0m \u001b[0;32mNone\u001b[0m\u001b[0;34m\u001b[0m\u001b[0;34m\u001b[0m\u001b[0m\n\u001b[0m\u001b[1;32m   1220\u001b[0m             \u001b[0;32mexcept\u001b[0m \u001b[0mException\u001b[0m\u001b[0;34m:\u001b[0m\u001b[0;34m\u001b[0m\u001b[0;34m\u001b[0m\u001b[0m\n\u001b[1;32m   1221\u001b[0m                 \u001b[0mself\u001b[0m\u001b[0;34m.\u001b[0m\u001b[0mlog\u001b[0m\u001b[0;34m.\u001b[0m\u001b[0mwarning\u001b[0m\u001b[0;34m(\u001b[0m\u001b[0;34m\"Invalid Message:\"\u001b[0m\u001b[0;34m,\u001b[0m \u001b[0mexc_info\u001b[0m\u001b[0;34m=\u001b[0m\u001b[0;32mTrue\u001b[0m\u001b[0;34m)\u001b[0m\u001b[0;34m\u001b[0m\u001b[0;34m\u001b[0m\u001b[0m\n",
            "\u001b[0;31mKeyboardInterrupt\u001b[0m: Interrupted by user"
          ]
        }
      ]
    },
    {
      "cell_type": "markdown",
      "source": [
        "**8. Student Attendance Tracker**"
      ],
      "metadata": {
        "id": "BmJqrt62lYIM"
      }
    },
    {
      "cell_type": "code",
      "source": [
        "# Student Attendance Tracker\n",
        "\n",
        "# Step 1: Store student names\n",
        "students = [\"Alice\", \"Bob\", \"Charlie\", \"Diana\", \"Ethan\"]\n",
        "\n",
        "# Step 2: Initialize attendance dictionary\n",
        "attendance = {}\n",
        "\n",
        "# Step 3: Mark attendance\n",
        "for student in students:\n",
        "    status = input(f\"Mark attendance for {student} (P/A): \").strip().upper()\n",
        "    while status not in ['P', 'A']:\n",
        "        print(\"Invalid input. Please enter 'P' for Present or 'A' for Absent.\")\n",
        "        status = input(f\"Mark attendance for {student} (P/A): \").strip().upper()\n",
        "    attendance[student] = status\n",
        "\n",
        "# Step 4: Count present and absent students\n",
        "present_count = sum(1 for status in attendance.values() if status == 'P')\n",
        "absent_count = sum(1 for status in attendance.values() if status == 'A')\n",
        "\n",
        "# Step 5: Print summary\n",
        "print(\"\\n--- Attendance Summary ---\")\n",
        "print(f\"Total Present: {present_count}\")\n",
        "print(f\"Total Absent: {absent_count}\")\n"
      ],
      "metadata": {
        "colab": {
          "base_uri": "https://localhost:8080/",
          "height": 356
        },
        "id": "XMt0RZcPleio",
        "outputId": "0a26c235-1061-41e4-9ee1-635834042638"
      },
      "execution_count": null,
      "outputs": [
        {
          "output_type": "error",
          "ename": "KeyboardInterrupt",
          "evalue": "Interrupted by user",
          "traceback": [
            "\u001b[0;31m---------------------------------------------------------------------------\u001b[0m",
            "\u001b[0;31mKeyboardInterrupt\u001b[0m                         Traceback (most recent call last)",
            "\u001b[0;32m/tmp/ipython-input-256893566.py\u001b[0m in \u001b[0;36m<cell line: 0>\u001b[0;34m()\u001b[0m\n\u001b[1;32m      9\u001b[0m \u001b[0;31m# Step 3: Mark attendance\u001b[0m\u001b[0;34m\u001b[0m\u001b[0;34m\u001b[0m\u001b[0m\n\u001b[1;32m     10\u001b[0m \u001b[0;32mfor\u001b[0m \u001b[0mstudent\u001b[0m \u001b[0;32min\u001b[0m \u001b[0mstudents\u001b[0m\u001b[0;34m:\u001b[0m\u001b[0;34m\u001b[0m\u001b[0;34m\u001b[0m\u001b[0m\n\u001b[0;32m---> 11\u001b[0;31m     \u001b[0mstatus\u001b[0m \u001b[0;34m=\u001b[0m \u001b[0minput\u001b[0m\u001b[0;34m(\u001b[0m\u001b[0;34mf\"Mark attendance for {student} (P/A): \"\u001b[0m\u001b[0;34m)\u001b[0m\u001b[0;34m.\u001b[0m\u001b[0mstrip\u001b[0m\u001b[0;34m(\u001b[0m\u001b[0;34m)\u001b[0m\u001b[0;34m.\u001b[0m\u001b[0mupper\u001b[0m\u001b[0;34m(\u001b[0m\u001b[0;34m)\u001b[0m\u001b[0;34m\u001b[0m\u001b[0;34m\u001b[0m\u001b[0m\n\u001b[0m\u001b[1;32m     12\u001b[0m     \u001b[0;32mwhile\u001b[0m \u001b[0mstatus\u001b[0m \u001b[0;32mnot\u001b[0m \u001b[0;32min\u001b[0m \u001b[0;34m[\u001b[0m\u001b[0;34m'P'\u001b[0m\u001b[0;34m,\u001b[0m \u001b[0;34m'A'\u001b[0m\u001b[0;34m]\u001b[0m\u001b[0;34m:\u001b[0m\u001b[0;34m\u001b[0m\u001b[0;34m\u001b[0m\u001b[0m\n\u001b[1;32m     13\u001b[0m         \u001b[0mprint\u001b[0m\u001b[0;34m(\u001b[0m\u001b[0;34m\"Invalid input. Please enter 'P' for Present or 'A' for Absent.\"\u001b[0m\u001b[0;34m)\u001b[0m\u001b[0;34m\u001b[0m\u001b[0;34m\u001b[0m\u001b[0m\n",
            "\u001b[0;32m/usr/local/lib/python3.12/dist-packages/ipykernel/kernelbase.py\u001b[0m in \u001b[0;36mraw_input\u001b[0;34m(self, prompt)\u001b[0m\n\u001b[1;32m   1175\u001b[0m                 \u001b[0;34m\"raw_input was called, but this frontend does not support input requests.\"\u001b[0m\u001b[0;34m\u001b[0m\u001b[0;34m\u001b[0m\u001b[0m\n\u001b[1;32m   1176\u001b[0m             )\n\u001b[0;32m-> 1177\u001b[0;31m         return self._input_request(\n\u001b[0m\u001b[1;32m   1178\u001b[0m             \u001b[0mstr\u001b[0m\u001b[0;34m(\u001b[0m\u001b[0mprompt\u001b[0m\u001b[0;34m)\u001b[0m\u001b[0;34m,\u001b[0m\u001b[0;34m\u001b[0m\u001b[0;34m\u001b[0m\u001b[0m\n\u001b[1;32m   1179\u001b[0m             \u001b[0mself\u001b[0m\u001b[0;34m.\u001b[0m\u001b[0m_parent_ident\u001b[0m\u001b[0;34m[\u001b[0m\u001b[0;34m\"shell\"\u001b[0m\u001b[0;34m]\u001b[0m\u001b[0;34m,\u001b[0m\u001b[0;34m\u001b[0m\u001b[0;34m\u001b[0m\u001b[0m\n",
            "\u001b[0;32m/usr/local/lib/python3.12/dist-packages/ipykernel/kernelbase.py\u001b[0m in \u001b[0;36m_input_request\u001b[0;34m(self, prompt, ident, parent, password)\u001b[0m\n\u001b[1;32m   1217\u001b[0m             \u001b[0;32mexcept\u001b[0m \u001b[0mKeyboardInterrupt\u001b[0m\u001b[0;34m:\u001b[0m\u001b[0;34m\u001b[0m\u001b[0;34m\u001b[0m\u001b[0m\n\u001b[1;32m   1218\u001b[0m                 \u001b[0;31m# re-raise KeyboardInterrupt, to truncate traceback\u001b[0m\u001b[0;34m\u001b[0m\u001b[0;34m\u001b[0m\u001b[0m\n\u001b[0;32m-> 1219\u001b[0;31m                 \u001b[0;32mraise\u001b[0m \u001b[0mKeyboardInterrupt\u001b[0m\u001b[0;34m(\u001b[0m\u001b[0;34m\"Interrupted by user\"\u001b[0m\u001b[0;34m)\u001b[0m \u001b[0;32mfrom\u001b[0m \u001b[0;32mNone\u001b[0m\u001b[0;34m\u001b[0m\u001b[0;34m\u001b[0m\u001b[0m\n\u001b[0m\u001b[1;32m   1220\u001b[0m             \u001b[0;32mexcept\u001b[0m \u001b[0mException\u001b[0m\u001b[0;34m:\u001b[0m\u001b[0;34m\u001b[0m\u001b[0;34m\u001b[0m\u001b[0m\n\u001b[1;32m   1221\u001b[0m                 \u001b[0mself\u001b[0m\u001b[0;34m.\u001b[0m\u001b[0mlog\u001b[0m\u001b[0;34m.\u001b[0m\u001b[0mwarning\u001b[0m\u001b[0;34m(\u001b[0m\u001b[0;34m\"Invalid Message:\"\u001b[0m\u001b[0;34m,\u001b[0m \u001b[0mexc_info\u001b[0m\u001b[0;34m=\u001b[0m\u001b[0;32mTrue\u001b[0m\u001b[0;34m)\u001b[0m\u001b[0;34m\u001b[0m\u001b[0;34m\u001b[0m\u001b[0m\n",
            "\u001b[0;31mKeyboardInterrupt\u001b[0m: Interrupted by user"
          ]
        }
      ]
    },
    {
      "cell_type": "markdown",
      "source": [
        "**9. Cinema Ticket Booking System**"
      ],
      "metadata": {
        "id": "hCZRxAnhmAWj"
      }
    },
    {
      "cell_type": "code",
      "source": [
        "# Cinema Ticket Booking System - Google Colab Version\n",
        "\n",
        "# Initial Setup\n",
        "TOTAL_SEATS = 50\n",
        "TICKET_PRICE = 120\n",
        "available_seats = TOTAL_SEATS\n",
        "\n",
        "print(\" Welcome to the Cinema Ticket Booking System!\")\n",
        "print(f\" Total Seats Available: {TOTAL_SEATS}\")\n",
        "print(f\" Each ticket costs ₹{TICKET_PRICE}\\n\")\n",
        "\n",
        "# Booking Loop\n",
        "while available_seats > 0:\n",
        "    try:\n",
        "        requested_tickets = int(input(\" How many tickets would you like to book? \"))\n",
        "\n",
        "        if requested_tickets <= 0:\n",
        "            print(\" Please enter a number greater than 0.\\n\")\n",
        "            continue\n",
        "\n",
        "        if requested_tickets > available_seats:\n",
        "            print(f\" Only {available_seats} seat(s) left. Cannot book {requested_tickets} ticket(s).\\n\")\n",
        "        else:\n",
        "            total_cost = requested_tickets * TICKET_PRICE\n",
        "            available_seats -= requested_tickets\n",
        "            print(f\" Booking confirmed for {requested_tickets} ticket(s). Total cost: ₹{total_cost}\")\n",
        "            print(f\" Remaining seats: {available_seats}\\n\")\n",
        "\n",
        "        if available_seats == 0:\n",
        "            print(\" All seats have been booked. Thank you!\")\n",
        "            break\n",
        "\n",
        "    except ValueError:\n",
        "        print(\" Invalid input. Please enter a numeric value.\\n\")\n"
      ],
      "metadata": {
        "colab": {
          "base_uri": "https://localhost:8080/",
          "height": 634
        },
        "id": "ydydvw0qmVg2",
        "outputId": "c4474f3c-6c27-4db8-fdf0-0dc1690f10d9"
      },
      "execution_count": null,
      "outputs": [
        {
          "output_type": "stream",
          "name": "stdout",
          "text": [
            "🎬 Welcome to the Cinema Ticket Booking System!\n",
            "🎟️ Total Seats Available: 50\n",
            "💰 Each ticket costs ₹120\n",
            "\n",
            "📝 How many tickets would you like to book? 3\n",
            "✅ Booking confirmed for 3 ticket(s). Total cost: ₹360\n",
            "🪑 Remaining seats: 47\n",
            "\n",
            "📝 How many tickets would you like to book? 3\n",
            "✅ Booking confirmed for 3 ticket(s). Total cost: ₹360\n",
            "🪑 Remaining seats: 44\n",
            "\n",
            "📝 How many tickets would you like to book? 5\n",
            "✅ Booking confirmed for 5 ticket(s). Total cost: ₹600\n",
            "🪑 Remaining seats: 39\n",
            "\n"
          ]
        },
        {
          "output_type": "error",
          "ename": "KeyboardInterrupt",
          "evalue": "Interrupted by user",
          "traceback": [
            "\u001b[0;31m---------------------------------------------------------------------------\u001b[0m",
            "\u001b[0;31mKeyboardInterrupt\u001b[0m                         Traceback (most recent call last)",
            "\u001b[0;32m/tmp/ipython-input-3056764930.py\u001b[0m in \u001b[0;36m<cell line: 0>\u001b[0;34m()\u001b[0m\n\u001b[1;32m     13\u001b[0m \u001b[0;32mwhile\u001b[0m \u001b[0mavailable_seats\u001b[0m \u001b[0;34m>\u001b[0m \u001b[0;36m0\u001b[0m\u001b[0;34m:\u001b[0m\u001b[0;34m\u001b[0m\u001b[0;34m\u001b[0m\u001b[0m\n\u001b[1;32m     14\u001b[0m     \u001b[0;32mtry\u001b[0m\u001b[0;34m:\u001b[0m\u001b[0;34m\u001b[0m\u001b[0;34m\u001b[0m\u001b[0m\n\u001b[0;32m---> 15\u001b[0;31m         \u001b[0mrequested_tickets\u001b[0m \u001b[0;34m=\u001b[0m \u001b[0mint\u001b[0m\u001b[0;34m(\u001b[0m\u001b[0minput\u001b[0m\u001b[0;34m(\u001b[0m\u001b[0;34m\"📝 How many tickets would you like to book? \"\u001b[0m\u001b[0;34m)\u001b[0m\u001b[0;34m)\u001b[0m\u001b[0;34m\u001b[0m\u001b[0;34m\u001b[0m\u001b[0m\n\u001b[0m\u001b[1;32m     16\u001b[0m \u001b[0;34m\u001b[0m\u001b[0m\n\u001b[1;32m     17\u001b[0m         \u001b[0;32mif\u001b[0m \u001b[0mrequested_tickets\u001b[0m \u001b[0;34m<=\u001b[0m \u001b[0;36m0\u001b[0m\u001b[0;34m:\u001b[0m\u001b[0;34m\u001b[0m\u001b[0;34m\u001b[0m\u001b[0m\n",
            "\u001b[0;32m/usr/local/lib/python3.12/dist-packages/ipykernel/kernelbase.py\u001b[0m in \u001b[0;36mraw_input\u001b[0;34m(self, prompt)\u001b[0m\n\u001b[1;32m   1175\u001b[0m                 \u001b[0;34m\"raw_input was called, but this frontend does not support input requests.\"\u001b[0m\u001b[0;34m\u001b[0m\u001b[0;34m\u001b[0m\u001b[0m\n\u001b[1;32m   1176\u001b[0m             )\n\u001b[0;32m-> 1177\u001b[0;31m         return self._input_request(\n\u001b[0m\u001b[1;32m   1178\u001b[0m             \u001b[0mstr\u001b[0m\u001b[0;34m(\u001b[0m\u001b[0mprompt\u001b[0m\u001b[0;34m)\u001b[0m\u001b[0;34m,\u001b[0m\u001b[0;34m\u001b[0m\u001b[0;34m\u001b[0m\u001b[0m\n\u001b[1;32m   1179\u001b[0m             \u001b[0mself\u001b[0m\u001b[0;34m.\u001b[0m\u001b[0m_parent_ident\u001b[0m\u001b[0;34m[\u001b[0m\u001b[0;34m\"shell\"\u001b[0m\u001b[0;34m]\u001b[0m\u001b[0;34m,\u001b[0m\u001b[0;34m\u001b[0m\u001b[0;34m\u001b[0m\u001b[0m\n",
            "\u001b[0;32m/usr/local/lib/python3.12/dist-packages/ipykernel/kernelbase.py\u001b[0m in \u001b[0;36m_input_request\u001b[0;34m(self, prompt, ident, parent, password)\u001b[0m\n\u001b[1;32m   1217\u001b[0m             \u001b[0;32mexcept\u001b[0m \u001b[0mKeyboardInterrupt\u001b[0m\u001b[0;34m:\u001b[0m\u001b[0;34m\u001b[0m\u001b[0;34m\u001b[0m\u001b[0m\n\u001b[1;32m   1218\u001b[0m                 \u001b[0;31m# re-raise KeyboardInterrupt, to truncate traceback\u001b[0m\u001b[0;34m\u001b[0m\u001b[0;34m\u001b[0m\u001b[0m\n\u001b[0;32m-> 1219\u001b[0;31m                 \u001b[0;32mraise\u001b[0m \u001b[0mKeyboardInterrupt\u001b[0m\u001b[0;34m(\u001b[0m\u001b[0;34m\"Interrupted by user\"\u001b[0m\u001b[0;34m)\u001b[0m \u001b[0;32mfrom\u001b[0m \u001b[0;32mNone\u001b[0m\u001b[0;34m\u001b[0m\u001b[0;34m\u001b[0m\u001b[0m\n\u001b[0m\u001b[1;32m   1220\u001b[0m             \u001b[0;32mexcept\u001b[0m \u001b[0mException\u001b[0m\u001b[0;34m:\u001b[0m\u001b[0;34m\u001b[0m\u001b[0;34m\u001b[0m\u001b[0m\n\u001b[1;32m   1221\u001b[0m                 \u001b[0mself\u001b[0m\u001b[0;34m.\u001b[0m\u001b[0mlog\u001b[0m\u001b[0;34m.\u001b[0m\u001b[0mwarning\u001b[0m\u001b[0;34m(\u001b[0m\u001b[0;34m\"Invalid Message:\"\u001b[0m\u001b[0;34m,\u001b[0m \u001b[0mexc_info\u001b[0m\u001b[0;34m=\u001b[0m\u001b[0;32mTrue\u001b[0m\u001b[0;34m)\u001b[0m\u001b[0;34m\u001b[0m\u001b[0;34m\u001b[0m\u001b[0m\n",
            "\u001b[0;31mKeyboardInterrupt\u001b[0m: Interrupted by user"
          ]
        }
      ]
    },
    {
      "cell_type": "markdown",
      "source": [
        "**Bank Loan Eligibility Checker**"
      ],
      "metadata": {
        "id": "5-vdAZxWnBRr"
      }
    },
    {
      "cell_type": "code",
      "source": [
        "# Bank Loan Eligibility Checker\n",
        "\n",
        "print(\"🏦 Welcome to the Bank Loan Eligibility Checker\")\n",
        "\n",
        "try:\n",
        "    salary = float(input(\"Enter your salary: ₹\"))\n",
        "    credit_score = int(input(\"Enter your credit score: \"))\n",
        "    age = int(input(\"Enter your age: \"))\n",
        "\n",
        "    if salary >= 25000 and credit_score >= 650 and 21 <= age <= 60:\n",
        "        print(\" Congratulations! You are eligible for the loan.\")\n",
        "    else:\n",
        "        print(\" Sorry, you are not eligible for the loan based on the given criteria.\")\n",
        "\n",
        "except ValueError:\n",
        "    print(\" Invalid input. Please enter numeric values for salary, credit score, and age.\")\n"
      ],
      "metadata": {
        "colab": {
          "base_uri": "https://localhost:8080/"
        },
        "id": "hOltgYqenDkM",
        "outputId": "8e87c4c1-2225-4a3a-fba1-9b1df8754a53"
      },
      "execution_count": null,
      "outputs": [
        {
          "output_type": "stream",
          "name": "stdout",
          "text": [
            "🏦 Welcome to the Bank Loan Eligibility Checker\n",
            "Enter your salary: ₹10000\n",
            "Enter your credit score: 59\n",
            "Enter your age: 28\n",
            " Sorry, you are not eligible for the loan based on the given criteria.\n"
          ]
        }
      ]
    }
  ]
}