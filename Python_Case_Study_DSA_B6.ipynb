{
  "nbformat": 4,
  "nbformat_minor": 0,
  "metadata": {
    "colab": {
      "provenance": [],
      "include_colab_link": true
    },
    "kernelspec": {
      "name": "python3",
      "display_name": "Python 3"
    },
    "language_info": {
      "name": "python"
    }
  },
  "cells": [
    {
      "cell_type": "markdown",
      "metadata": {
        "id": "view-in-github",
        "colab_type": "text"
      },
      "source": [
        "<a href=\"https://colab.research.google.com/github/ajeeshnadh/DSA_Projects/blob/main/Python_Case_Study_DSA_B6.ipynb\" target=\"_parent\"><img src=\"https://colab.research.google.com/assets/colab-badge.svg\" alt=\"Open In Colab\"/></a>"
      ]
    },
    {
      "cell_type": "markdown",
      "source": [
        "# Answer the following questions using only builtin Python datatypes and functions. Do not use Numpy or Scipy (i.e. No library imports allowed)"
      ],
      "metadata": {
        "id": "zVV_KMSIUG-A"
      }
    },
    {
      "cell_type": "markdown",
      "source": [
        "# Q1. Write a function that return the range (maximum and minimun) of a given list of numbers"
      ],
      "metadata": {
        "id": "uZnK7VgWV5SI"
      }
    },
    {
      "cell_type": "code",
      "source": [
        "def calculate_range(data):\n",
        "\n",
        "  if not data:\n",
        "    return None, None\n",
        "\n",
        "  minimum = data[0]\n",
        "  maximum = data[0]\n",
        "\n",
        "  for number in data:\n",
        "    if number < minimum:\n",
        "      minimum = number\n",
        "    if number > maximum:\n",
        "      maximum = number\n",
        "\n",
        "  return minimum, maximum\n",
        "\n",
        "# Example usage:\n",
        "my_list = [10, 5, 20, 15, 30]\n",
        "min_val, max_val = calculate_range(my_list)\n",
        "print(f\"The range of the list is: Minimum = {min_val}, Maximum = {max_val}\")\n",
        "\n",
        "empty_list = []\n",
        "min_val, max_val = calculate_range(empty_list)\n",
        "print(f\"The range of the empty list is: Minimum = {min_val}, Maximum = {max_val}\")"
      ],
      "metadata": {
        "id": "vuAbJQcOWAM7",
        "colab": {
          "base_uri": "https://localhost:8080/"
        },
        "outputId": "6b9d9868-f04c-43c8-b41d-4d4a510b6072"
      },
      "execution_count": null,
      "outputs": [
        {
          "output_type": "stream",
          "name": "stdout",
          "text": [
            "The range of the list is: Minimum = 5, Maximum = 30\n",
            "The range of the empty list is: Minimum = None, Maximum = None\n"
          ]
        }
      ]
    },
    {
      "cell_type": "markdown",
      "source": [
        "## Q2. Write function that returns mean value of a list of numbers"
      ],
      "metadata": {
        "id": "Y5_v5a8_U1O-"
      }
    },
    {
      "cell_type": "code",
      "source": [
        "def calculate_mean(data):\n",
        "  \"\"\"\n",
        "  Calculates the mean of a list of numbers.\n",
        "\n",
        "  Args:\n",
        "    data: A list of numbers.\n",
        "\n",
        "  Returns:\n",
        "    The mean of the list, or None if the list is empty.\n",
        "  \"\"\"\n",
        "  if not data:\n",
        "    return None\n",
        "  return sum(data) / len(data)\n",
        "\n",
        "# Example usage:\n",
        "my_list = [10, 5, 20, 15, 30]\n",
        "mean_val = calculate_mean(my_list)\n",
        "print(f\"The mean of the list is: {mean_val}\")\n",
        "\n",
        "empty_list = []\n",
        "mean_val = calculate_mean(empty_list)\n",
        "print(f\"The mean of the empty list is: {mean_val}\")"
      ],
      "metadata": {
        "id": "RajjEyacU7Sc",
        "colab": {
          "base_uri": "https://localhost:8080/"
        },
        "outputId": "01438d5c-df01-4464-f220-e92be461677f"
      },
      "execution_count": null,
      "outputs": [
        {
          "output_type": "stream",
          "name": "stdout",
          "text": [
            "The mean of the list is: 16.0\n",
            "The mean of the empty list is: None\n"
          ]
        }
      ]
    },
    {
      "cell_type": "markdown",
      "source": [
        "# Q3. Write a function that returns the median value of a list of numbers"
      ],
      "metadata": {
        "id": "OpeRxoEoVTIP"
      }
    },
    {
      "cell_type": "code",
      "source": [
        "def calculate_median(data):\n",
        "\n",
        "  if not data:\n",
        "    return None\n",
        "\n",
        "  sorted_data = sorted(data)\n",
        "  n = len(sorted_data)\n",
        "\n",
        "  if n % 2 == 1:\n",
        "    # If the number of elements is odd, return the middle element\n",
        "    return sorted_data[n // 2]\n",
        "  else:\n",
        "    # If the number of elements is even, return the average of the two middle elements\n",
        "    mid1 = sorted_data[n // 2 - 1]\n",
        "    mid2 = sorted_data[n // 2]\n",
        "    return (mid1 + mid2) / 2\n",
        "\n",
        "# Example usage:\n",
        "my_list1 = [10, 5, 20, 15, 30]\n",
        "median_val1 = calculate_median(my_list1)\n",
        "print(f\"The median of {my_list1} is: {median_val1}\")\n",
        "\n",
        "my_list2 = [10, 5, 20, 15]\n",
        "median_val2 = calculate_median(my_list2)\n",
        "print(f\"The median of {my_list2} is: {median_val2}\")\n",
        "\n",
        "empty_list = []\n",
        "median_val3 = calculate_median(empty_list)\n",
        "print(f\"The median of the empty list is: {median_val3}\")"
      ],
      "metadata": {
        "id": "u1CUy0UOVaQi",
        "colab": {
          "base_uri": "https://localhost:8080/"
        },
        "outputId": "ea642340-029a-4980-e64a-b8cef7c261d4"
      },
      "execution_count": null,
      "outputs": [
        {
          "output_type": "stream",
          "name": "stdout",
          "text": [
            "The median of [10, 5, 20, 15, 30] is: 15\n",
            "The median of [10, 5, 20, 15] is: 12.5\n",
            "The median of the empty list is: None\n"
          ]
        }
      ]
    },
    {
      "cell_type": "markdown",
      "source": [
        "## Q4. Write a function to return the mod of a list of numbers, if no mod exists, it should return None. If more than one mod exist, return the mod values as list"
      ],
      "metadata": {
        "id": "2EMOG7AZSqVn"
      }
    },
    {
      "cell_type": "code",
      "execution_count": null,
      "metadata": {
        "id": "qnMm2dhhSk3-",
        "colab": {
          "base_uri": "https://localhost:8080/"
        },
        "outputId": "1a7bb9cf-cb55-4601-f0fd-9b4ee72a2984"
      },
      "outputs": [
        {
          "output_type": "stream",
          "name": "stdout",
          "text": [
            "The mode(s) of [1, 2, 2, 3, 3, 3, 4] is/are: 3\n",
            "The mode(s) of [1, 2, 3, 4, 5] is/are: None\n",
            "The mode(s) of [1, 1, 2, 2, 3, 3] is/are: [1, 2, 3]\n",
            "The mode(s) of [5, 5, 5, 5] is/are: 5\n",
            "The mode(s) of the empty list is/are: None\n",
            "The mode(s) of [1, 2, 3, 4, 1, 2] is/are: [1, 2]\n"
          ]
        }
      ],
      "source": [
        "def calculate_mode(data):\n",
        "\n",
        "  if not data:\n",
        "    return None\n",
        "\n",
        "  frequency = {}\n",
        "  for number in data:\n",
        "    if number in frequency:\n",
        "      frequency[number] += 1\n",
        "    else:\n",
        "      frequency[number] = 1\n",
        "\n",
        "  max_frequency = 0\n",
        "  for number in frequency:\n",
        "    if frequency[number] > max_frequency:\n",
        "      max_frequency = frequency[number]\n",
        "\n",
        "  # Check if all elements have the same frequency (no mode)\n",
        "  if max_frequency <= 1 and len(frequency) > 1:\n",
        "      return None\n",
        "\n",
        "  modes = []\n",
        "  for number in frequency:\n",
        "    if frequency[number] == max_frequency:\n",
        "      modes.append(number)\n",
        "\n",
        "  if len(modes) == len(data): # All elements are the same, single mode\n",
        "      return modes\n",
        "  elif len(modes) == 1: # Single mode\n",
        "      return modes[0]\n",
        "  elif max_frequency == 1 and len(modes) == len(data): # All elements unique, no mode\n",
        "      return None\n",
        "  else: # Multiple modes\n",
        "      return modes\n",
        "\n",
        "\n",
        "# Example usage:\n",
        "my_list1 = [1, 2, 2, 3, 3, 3, 4]\n",
        "modes1 = calculate_mode(my_list1)\n",
        "print(f\"The mode(s) of {my_list1} is/are: {modes1}\")\n",
        "\n",
        "my_list2 = [1, 2, 3, 4, 5]\n",
        "modes2 = calculate_mode(my_list2)\n",
        "print(f\"The mode(s) of {my_list2} is/are: {modes2}\")\n",
        "\n",
        "my_list3 = [1, 1, 2, 2, 3, 3]\n",
        "modes3 = calculate_mode(my_list3)\n",
        "print(f\"The mode(s) of {my_list3} is/are: {modes3}\")\n",
        "\n",
        "my_list4 = [5, 5, 5, 5]\n",
        "modes4 = calculate_mode(my_list4)\n",
        "print(f\"The mode(s) of {my_list4} is/are: {modes4}\")\n",
        "\n",
        "empty_list = []\n",
        "modes5 = calculate_mode(empty_list)\n",
        "print(f\"The mode(s) of the empty list is/are: {modes5}\")\n",
        "\n",
        "my_list6 = [1, 2, 3, 4, 1, 2]\n",
        "modes6 = calculate_mode(my_list6)\n",
        "print(f\"The mode(s) of {my_list6} is/are: {modes6}\")"
      ]
    },
    {
      "cell_type": "markdown",
      "source": [
        "## Q5. Write function to compute a given percentile value (e.g. 90th percentile) of a list of numbers"
      ],
      "metadata": {
        "id": "LcqWwqtgTCiL"
      }
    },
    {
      "cell_type": "code",
      "source": [
        "def calculate_percentile(data, percentile):\n",
        "\n",
        "  if not data:\n",
        "    return None\n",
        "\n",
        "  sorted_data = sorted(data)\n",
        "  n = len(sorted_data)\n",
        "  # Calculate the index\n",
        "  index = (n - 1) * percentile / 100\n",
        "\n",
        "  # Linear interpolation\n",
        "  if index.is_integer():\n",
        "    return sorted_data[int(index)]\n",
        "  else:\n",
        "    lower_index = int(index)\n",
        "    upper_index = lower_index + 1\n",
        "    lower_value = sorted_data[lower_index]\n",
        "    upper_value = sorted_data[upper_index]\n",
        "    return lower_value + (upper_value - lower_value) * (index - lower_index)\n",
        "\n",
        "# Example usage:\n",
        "my_list = [10, 5, 20, 15, 30]\n",
        "percentile_val = calculate_percentile(my_list, 90)\n",
        "print(f\"The 90th percentile of {my_list} is: {percentile_val}\")\n",
        "\n",
        "my_list2 = [1, 2, 3, 4, 5, 6, 7, 8, 9, 10]\n",
        "percentile_val2 = calculate_percentile(my_list2, 50)\n",
        "print(f\"The 50th percentile (median) of {my_list2} is: {percentile_val2}\")\n",
        "\n",
        "empty_list = []\n",
        "percentile_val3 = calculate_percentile(empty_list, 50)\n",
        "print(f\"The 50th percentile of the empty list is: {percentile_val3}\")"
      ],
      "metadata": {
        "id": "Sn307h0TTb2b",
        "colab": {
          "base_uri": "https://localhost:8080/"
        },
        "outputId": "9c35168c-b322-4cc7-c742-24c75813ae20"
      },
      "execution_count": null,
      "outputs": [
        {
          "output_type": "stream",
          "name": "stdout",
          "text": [
            "The 90th percentile of [10, 5, 20, 15, 30] is: 26.0\n",
            "The 50th percentile (median) of [1, 2, 3, 4, 5, 6, 7, 8, 9, 10] is: 5.5\n",
            "The 50th percentile of the empty list is: None\n"
          ]
        }
      ]
    },
    {
      "cell_type": "markdown",
      "source": [
        "# Q6. Write a function that returns the lower bound of a list of numbers"
      ],
      "metadata": {
        "id": "N-TYHkDcWOfS"
      }
    },
    {
      "cell_type": "code",
      "source": [
        "def calculate_lower_bound(data):\n",
        "\n",
        "  if not data:\n",
        "    return None\n",
        "  return min(data)\n",
        "\n",
        "# Example usage:\n",
        "my_list = [10, 5, 20, 15, 30]\n",
        "lower_bound_val = calculate_lower_bound(my_list)\n",
        "print(f\"The lower bound of the list is: {lower_bound_val}\")\n",
        "\n",
        "empty_list = []\n",
        "lower_bound_val = calculate_lower_bound(empty_list)\n",
        "print(f\"The lower bound of the empty list is: {lower_bound_val}\")"
      ],
      "metadata": {
        "id": "Y-RKPdKuW5nx",
        "colab": {
          "base_uri": "https://localhost:8080/"
        },
        "outputId": "31c781fc-fb53-4259-9822-d7fef346f265"
      },
      "execution_count": null,
      "outputs": [
        {
          "output_type": "stream",
          "name": "stdout",
          "text": [
            "The lower bound of the list is: 5\n",
            "The lower bound of the empty list is: None\n"
          ]
        }
      ]
    },
    {
      "cell_type": "markdown",
      "source": [
        "## Q7. Write function to return any outliers from a given list of numbers, if no outliers present it should return None"
      ],
      "metadata": {
        "id": "5aHfaI_jThpX"
      }
    },
    {
      "cell_type": "code",
      "source": [
        "def calculate_percentile(data, percentile):\n",
        "\n",
        "  if not data:\n",
        "    return None\n",
        "\n",
        "  sorted_data = sorted(data)\n",
        "  n = len(sorted_data)\n",
        "  # Calculate the index\n",
        "  index = (n - 1) * percentile / 100\n",
        "\n",
        "  # Linear interpolation\n",
        "  if index.is_integer():\n",
        "    return sorted_data[int(index)]\n",
        "  else:\n",
        "    lower_index = int(index)\n",
        "    upper_index = lower_index + 1\n",
        "    lower_value = sorted_data[lower_index]\n",
        "    upper_value = sorted_data[upper_index]\n",
        "    return lower_value + (upper_value - lower_value) * (index - lower_index)\n",
        "\n",
        "def find_outliers(data):\n",
        "\n",
        "  if not data or len(data) < 2:\n",
        "    return None\n",
        "\n",
        "  # Calculate Q1 (25th percentile) and Q3 (75th percentile)\n",
        "  q1 = calculate_percentile(data, 25)\n",
        "  q3 = calculate_percentile(data, 75)\n",
        "\n",
        "  if q1 is None or q3 is None:\n",
        "      return None\n",
        "\n",
        "  # Calculate IQR\n",
        "  iqr = q3 - q1\n",
        "\n",
        "  # Define outlier bounds\n",
        "  lower_bound = q1 - 1.5 * iqr\n",
        "  upper_bound = q3 + 1.5 * iqr\n",
        "\n",
        "  outliers = []\n",
        "  for number in data:\n",
        "    if number < lower_bound or number > upper_bound:\n",
        "      outliers.append(number)\n",
        "\n",
        "  if not outliers:\n",
        "    return None\n",
        "  else:\n",
        "    return outliers\n",
        "\n",
        "# Example usage:\n",
        "my_list1 = [1, 2, 3, 4, 5, 6, 7, 8, 9, 100]\n",
        "outliers1 = find_outliers(my_list1)\n",
        "print(f\"Outliers in {my_list1}: {outliers1}\")\n",
        "\n",
        "my_list2 = [1, 2, 3, 4, 5, 6, 7, 8, 9, 10]\n",
        "outliers2 = find_outliers(my_list2)\n",
        "print(f\"Outliers in {my_list2}: {outliers2}\")\n",
        "\n",
        "empty_list = []\n",
        "outliers3 = find_outliers(empty_list)\n",
        "print(f\"Outliers in the empty list: {outliers3}\")\n",
        "\n",
        "my_list3 = [1, 1, 1]\n",
        "outliers4 = find_outliers(my_list3)\n",
        "print(f\"Outliers in {my_list3}: {outliers4}\")"
      ],
      "metadata": {
        "id": "gG6-qzT7T0Si",
        "colab": {
          "base_uri": "https://localhost:8080/"
        },
        "outputId": "590058d2-7b6e-40e3-a543-16e3d6e96d9a"
      },
      "execution_count": null,
      "outputs": [
        {
          "output_type": "stream",
          "name": "stdout",
          "text": [
            "Outliers in [1, 2, 3, 4, 5, 6, 7, 8, 9, 100]: [100]\n",
            "Outliers in [1, 2, 3, 4, 5, 6, 7, 8, 9, 10]: None\n",
            "Outliers in the empty list: None\n",
            "Outliers in [1, 1, 1]: None\n"
          ]
        }
      ]
    },
    {
      "cell_type": "markdown",
      "source": [
        "##Q8. Write a function to return standard deviation of a list of numbers"
      ],
      "metadata": {
        "id": "jI9t-tcDT5EK"
      }
    },
    {
      "cell_type": "code",
      "source": [
        "def calculate_mean(data):\n",
        "\n",
        "  if not data:\n",
        "    return None\n",
        "  return sum(data) / len(data)\n",
        "\n",
        "def calculate_standard_deviation(data):\n",
        "\n",
        "  if not data or len(data) < 2:\n",
        "    return None\n",
        "\n",
        "  mean = calculate_mean(data)\n",
        "  if mean is None:\n",
        "    return None\n",
        "\n",
        "  # Calculate the sum of squared differences from the mean\n",
        "  squared_diffs_sum = sum([(x - mean) ** 2 for x in data])\n",
        "\n",
        "  # Calculate the variance (average of squared differences)\n",
        "  variance = squared_diffs_sum / len(data) # Using population standard deviation formula\n",
        "\n",
        "  # Calculate the standard deviation (square root of variance)\n",
        "  standard_deviation = variance ** 0.5\n",
        "\n",
        "  return standard_deviation\n",
        "\n",
        "# Example usage:\n",
        "my_list1 = [1, 2, 3, 4, 5]\n",
        "std_dev1 = calculate_standard_deviation(my_list1)\n",
        "print(f\"The standard deviation of {my_list1} is: {std_dev1}\")\n",
        "\n",
        "my_list2 = [10, 20, 30, 40, 50]\n",
        "std_dev2 = calculate_standard_deviation(my_list2)\n",
        "print(f\"The standard deviation of {my_list2} is: {std_dev2}\")\n",
        "\n",
        "empty_list = []\n",
        "std_dev3 = calculate_standard_deviation(empty_list)\n",
        "print(f\"The standard deviation of the empty list is: {std_dev3}\")\n",
        "\n",
        "single_element_list = [5]\n",
        "std_dev4 = calculate_standard_deviation(single_element_list)\n",
        "print(f\"The standard deviation of {single_element_list} is: {std_dev4}\")"
      ],
      "metadata": {
        "id": "MMU_cMlLUFxJ",
        "colab": {
          "base_uri": "https://localhost:8080/"
        },
        "outputId": "38c7853e-3a43-4e84-a876-39a872d337d7"
      },
      "execution_count": null,
      "outputs": [
        {
          "output_type": "stream",
          "name": "stdout",
          "text": [
            "The standard deviation of [1, 2, 3, 4, 5] is: 1.4142135623730951\n",
            "The standard deviation of [10, 20, 30, 40, 50] is: 14.142135623730951\n",
            "The standard deviation of the empty list is: None\n",
            "The standard deviation of [5] is: None\n"
          ]
        }
      ]
    },
    {
      "cell_type": "markdown",
      "source": [
        "## Q9. Write function to compute and return Z-score values of a list of numbers"
      ],
      "metadata": {
        "id": "LufmQDJPURkM"
      }
    },
    {
      "cell_type": "code",
      "source": [
        "def calculate_mean(data):\n",
        "  \"\"\"\n",
        "  Calculates the mean of a list of numbers.\n",
        "\n",
        "  Args:\n",
        "    data: A list of numbers.\n",
        "\n",
        "  Returns:\n",
        "    The mean of the list, or None if the list is empty.\n",
        "  \"\"\"\n",
        "  if not data:\n",
        "    return None\n",
        "  return sum(data) / len(data)\n",
        "\n",
        "def calculate_standard_deviation(data):\n",
        "  \"\"\"\n",
        "  Calculates the standard deviation of a list of numbers.\n",
        "\n",
        "  Args:\n",
        "    data: A list of numbers.\n",
        "\n",
        "  Returns:\n",
        "    The standard deviation of the list, or None if the list is empty or has only one element.\n",
        "  \"\"\"\n",
        "  if not data or len(data) < 2:\n",
        "    return None\n",
        "\n",
        "  mean = calculate_mean(data)\n",
        "  if mean is None:\n",
        "    return None\n",
        "\n",
        "  # Calculate the sum of squared differences from the mean\n",
        "  squared_diffs_sum = sum([(x - mean) ** 2 for x in data])\n",
        "\n",
        "  # Calculate the variance (average of squared differences)\n",
        "  variance = squared_diffs_sum / len(data) # Using population standard deviation formula\n",
        "\n",
        "  # Calculate the standard deviation (square root of variance)\n",
        "  standard_deviation = variance ** 0.5\n",
        "\n",
        "  return standard_deviation\n",
        "\n",
        "\n",
        "def calculate_z_scores(data):\n",
        "  \"\"\"\n",
        "  Calculates the Z-score for each number in a list.\n",
        "\n",
        "  Args:\n",
        "    data: A list of numbers.\n",
        "\n",
        "  Returns:\n",
        "    A list of Z-scores, or None if the list is empty or has only one element.\n",
        "  \"\"\"\n",
        "  if not data or len(data) < 2:\n",
        "    return None\n",
        "\n",
        "  mean = calculate_mean(data)\n",
        "  std_dev = calculate_standard_deviation(data)\n",
        "\n",
        "  if mean is None or std_dev is None or std_dev == 0:\n",
        "    return None\n",
        "\n",
        "  z_scores = [(x - mean) / std_dev for x in data]\n",
        "  return z_scores\n",
        "\n",
        "# Example usage:\n",
        "my_list1 = [1, 2, 3, 4, 5]\n",
        "z_scores1 = calculate_z_scores(my_list1)\n",
        "print(f\"The Z-scores of {my_list1} are: {z_scores1}\")\n",
        "\n",
        "my_list2 = [10, 20, 30, 40, 50]\n",
        "z_scores2 = calculate_z_scores(my_list2)\n",
        "print(f\"The Z-scores of {my_list2} are: {z_scores2}\")\n",
        "\n",
        "empty_list = []\n",
        "z_scores3 = calculate_z_scores(empty_list)\n",
        "print(f\"The Z-scores of the empty list are: {z_scores3}\")\n",
        "\n",
        "single_element_list = [5]\n",
        "z_scores4 = calculate_z_scores(single_element_list)\n",
        "print(f\"The Z-scores of {single_element_list} are: {z_scores4}\")\n",
        "\n",
        "my_list3 = [5, 5, 5, 5]\n",
        "z_scores5 = calculate_z_scores(my_list3)\n",
        "print(f\"The Z-scores of {my_list3} are: {z_scores5}\")"
      ],
      "metadata": {
        "id": "ml2qpSpFUYxV",
        "colab": {
          "base_uri": "https://localhost:8080/"
        },
        "outputId": "98f4d488-6411-4bb3-fc90-a7e8b2847123"
      },
      "execution_count": null,
      "outputs": [
        {
          "output_type": "stream",
          "name": "stdout",
          "text": [
            "The Z-scores of [1, 2, 3, 4, 5] are: [-1.414213562373095, -0.7071067811865475, 0.0, 0.7071067811865475, 1.414213562373095]\n",
            "The Z-scores of [10, 20, 30, 40, 50] are: [-1.414213562373095, -0.7071067811865475, 0.0, 0.7071067811865475, 1.414213562373095]\n",
            "The Z-scores of the empty list are: None\n",
            "The Z-scores of [5] are: None\n",
            "The Z-scores of [5, 5, 5, 5] are: None\n"
          ]
        }
      ]
    },
    {
      "cell_type": "markdown",
      "source": [
        "## Q10. Write a function to compute and return the Pearson correlation coefficient value of two list of numbers"
      ],
      "metadata": {
        "id": "YQSNHIfxUb6s"
      }
    },
    {
      "cell_type": "code",
      "source": [
        "def calculate_mean(data):\n",
        "  \"\"\"\n",
        "  Calculates the mean of a list of numbers.\n",
        "\n",
        "  Args:\n",
        "    data: A list of numbers.\n",
        "\n",
        "  Returns:\n",
        "    The mean of the list, or None if the list is empty.\n",
        "  \"\"\"\n",
        "  if not data:\n",
        "    return None\n",
        "  return sum(data) / len(data)\n",
        "\n",
        "def calculate_standard_deviation(data):\n",
        "  \"\"\"\n",
        "  Calculates the standard deviation of a list of numbers.\n",
        "\n",
        "  Args:\n",
        "    data: A list of numbers.\n",
        "\n",
        "  Returns:\n",
        "    The standard deviation of the list, or None if the list is empty or has only one element.\n",
        "  \"\"\"\n",
        "  if not data or len(data) < 2:\n",
        "    return None\n",
        "\n",
        "  mean = calculate_mean(data)\n",
        "  if mean is None:\n",
        "    return None\n",
        "\n",
        "  # Calculate the sum of squared differences from the mean\n",
        "  squared_diffs_sum = sum([(x - mean) ** 2 for x in data])\n",
        "\n",
        "  # Calculate the variance (average of squared differences)\n",
        "  variance = squared_diffs_sum / len(data) # Using population standard deviation formula\n",
        "\n",
        "  # Calculate the standard deviation (square root of variance)\n",
        "  standard_deviation = variance ** 0.5\n",
        "\n",
        "  return standard_deviation\n",
        "\n",
        "def calculate_pearson_correlation(data1, data2):\n",
        "  \"\"\"\n",
        "  Calculates the Pearson correlation coefficient between two lists of numbers.\n",
        "\n",
        "  Args:\n",
        "    data1: The first list of numbers.\n",
        "    data2: The second list of numbers.\n",
        "\n",
        "  Returns:\n",
        "    The Pearson correlation coefficient, or None if the lists are empty,\n",
        "    have different lengths, or if the standard deviation of either list is zero.\n",
        "  \"\"\"\n",
        "  if not data1 or not data2 or len(data1) != len(data2) or len(data1) < 2:\n",
        "    return None\n",
        "\n",
        "  mean1 = calculate_mean(data1)\n",
        "  mean2 = calculate_mean(data2)\n",
        "  std_dev1 = calculate_standard_deviation(data1)\n",
        "  std_dev2 = calculate_standard_deviation(data2)\n",
        "\n",
        "  if mean1 is None or mean2 is None or std_dev1 is None or std_dev2 is None or std_dev1 == 0 or std_dev2 == 0:\n",
        "    return None\n",
        "\n",
        "  # Calculate the covariance\n",
        "  covariance = sum([(x - mean1) * (y - mean2) for x, y in zip(data1, data2)]) / len(data1)\n",
        "\n",
        "  # Calculate the Pearson correlation coefficient\n",
        "  pearson_correlation = covariance / (std_dev1 * std_dev2)\n",
        "\n",
        "  return pearson_correlation\n",
        "\n",
        "# Example usage:\n",
        "my_list1 = [1, 2, 3, 4, 5]\n",
        "my_list2 = [5, 4, 3, 2, 1]\n",
        "correlation1 = calculate_pearson_correlation(my_list1, my_list2)\n",
        "print(f\"The Pearson correlation coefficient between {my_list1} and {my_list2} is: {correlation1}\")\n",
        "\n",
        "my_list3 = [1, 2, 3, 4, 5]\n",
        "my_list4 = [1, 2, 3, 4, 5]\n",
        "correlation2 = calculate_pearson_correlation(my_list3, my_list4)\n",
        "print(f\"The Pearson correlation coefficient between {my_list3} and {my_list4} is: {correlation2}\")\n",
        "\n",
        "my_list5 = [1, 2, 3, 4, 5]\n",
        "my_list6 = [10, 20, 30, 40, 50]\n",
        "correlation3 = calculate_pearson_correlation(my_list5, my_list6)\n",
        "print(f\"The Pearson correlation coefficient between {my_list5} and {my_list6} is: {correlation3}\")\n",
        "\n",
        "empty_list = []\n",
        "correlation4 = calculate_pearson_correlation(empty_list, empty_list)\n",
        "print(f\"The Pearson correlation coefficient for empty lists is: {correlation4}\")\n",
        "\n",
        "list_single = [5]\n",
        "list_multiple = [1, 2, 3]\n",
        "correlation5 = calculate_pearson_correlation(list_single, list_multiple)\n",
        "print(f\"The Pearson correlation coefficient for lists of different lengths is: {correlation5}\")\n",
        "\n",
        "list_zero_std_dev1 = [5, 5, 5]\n",
        "list_zero_std_dev2 = [1, 2, 3]\n",
        "correlation6 = calculate_pearson_correlation(list_zero_std_dev1, list_zero_std_dev2)\n",
        "print(f\"The Pearson correlation coefficient when one list has zero standard deviation is: {correlation6}\")"
      ],
      "metadata": {
        "id": "1YGqr3T6Uk6H",
        "colab": {
          "base_uri": "https://localhost:8080/"
        },
        "outputId": "4355c75c-1b0e-4930-8bf0-4e03a06d2fee"
      },
      "execution_count": null,
      "outputs": [
        {
          "output_type": "stream",
          "name": "stdout",
          "text": [
            "The Pearson correlation coefficient between [1, 2, 3, 4, 5] and [5, 4, 3, 2, 1] is: -0.9999999999999998\n",
            "The Pearson correlation coefficient between [1, 2, 3, 4, 5] and [1, 2, 3, 4, 5] is: 0.9999999999999998\n",
            "The Pearson correlation coefficient between [1, 2, 3, 4, 5] and [10, 20, 30, 40, 50] is: 0.9999999999999998\n",
            "The Pearson correlation coefficient for empty lists is: None\n",
            "The Pearson correlation coefficient for lists of different lengths is: None\n",
            "The Pearson correlation coefficient when one list has zero standard deviation is: None\n"
          ]
        }
      ]
    }
  ]
}