{
  "nbformat": 4,
  "nbformat_minor": 0,
  "metadata": {
    "colab": {
      "provenance": [],
      "authorship_tag": "ABX9TyO9+BsxuFMJurKWaGbhMtqG",
      "include_colab_link": true
    },
    "kernelspec": {
      "name": "python3",
      "display_name": "Python 3"
    },
    "language_info": {
      "name": "python"
    }
  },
  "cells": [
    {
      "cell_type": "markdown",
      "metadata": {
        "id": "view-in-github",
        "colab_type": "text"
      },
      "source": [
        "<a href=\"https://colab.research.google.com/github/ajeeshnadh/DSA_Projects/blob/main/numpy_assignment.ipynb\" target=\"_parent\"><img src=\"https://colab.research.google.com/assets/colab-badge.svg\" alt=\"Open In Colab\"/></a>"
      ]
    },
    {
      "cell_type": "code",
      "execution_count": null,
      "metadata": {
        "id": "UguuXEpKtfJ8",
        "colab": {
          "base_uri": "https://localhost:8080/"
        },
        "outputId": "51d4e521-8e39-437b-acd3-9e09b58d3ef0"
      },
      "outputs": [
        {
          "output_type": "stream",
          "name": "stdout",
          "text": [
            "Reshaped array:\n",
            " [[10 11 12 13 14 15 16 17 18 19]\n",
            " [20 21 22 23 24 25 26 27 28 29]\n",
            " [30 31 32 33 34 35 36 37 38 39]\n",
            " [40 41 42 43 44 45 46 47 48 49]]\n",
            "Last column:\n",
            " [19 29 39 49]\n"
          ]
        }
      ],
      "source": [
        "    arr = np.arange(10, 50)\n",
        "    reshaped = arr.reshape(4, 10)\n",
        "    last_column = reshaped[:, -1]\n",
        "    print(\"Reshaped array:\\n\", reshaped)\n",
        "    print(\"Last column:\\n\", last_column)\n"
      ]
    },
    {
      "cell_type": "code",
      "source": [
        "\n",
        "    mat1 = np.full((3, 3), 5)\n",
        "    mat2 = np.arange(1, 10).reshape(3, 3)\n",
        "    added = mat1 + mat2\n",
        "    multiplied = mat1 * mat2\n",
        "    transposed = multiplied.T\n",
        "    print(\"Matrix 1:\\n\", mat1)\n",
        "    print(\"Matrix 2:\\n\", mat2)\n",
        "    print(\"Added:\\n\", added)\n",
        "    print(\"Multiplied (element-wise):\\n\", multiplied)\n",
        "    print(\"Transposed result:\\n\", transposed)\n"
      ],
      "metadata": {
        "id": "PjyqhQ-PupK5",
        "colab": {
          "base_uri": "https://localhost:8080/"
        },
        "outputId": "d887b798-6eaf-407e-beec-97f90aa5b2ff"
      },
      "execution_count": null,
      "outputs": [
        {
          "output_type": "stream",
          "name": "stdout",
          "text": [
            "Matrix 1:\n",
            " [[5 5 5]\n",
            " [5 5 5]\n",
            " [5 5 5]]\n",
            "Matrix 2:\n",
            " [[1 2 3]\n",
            " [4 5 6]\n",
            " [7 8 9]]\n",
            "Added:\n",
            " [[ 6  7  8]\n",
            " [ 9 10 11]\n",
            " [12 13 14]]\n",
            "Multiplied (element-wise):\n",
            " [[ 5 10 15]\n",
            " [20 25 30]\n",
            " [35 40 45]]\n",
            "Transposed result:\n",
            " [[ 5 20 35]\n",
            " [10 25 40]\n",
            " [15 30 45]]\n"
          ]
        }
      ]
    },
    {
      "cell_type": "code",
      "source": [
        "\n",
        "    arr = np.random.randint(10, 101, 15)\n",
        "    print(\"Original array:\", arr)\n",
        "    replaced = np.where(arr > 50, -1, arr)\n",
        "    count_replaced = np.sum(arr > 50)\n",
        "    print(\"Modified array:\", replaced)\n",
        "    print(\"Count of replaced values:\", count_replaced)\n"
      ],
      "metadata": {
        "id": "QnuSvZaDupGB",
        "colab": {
          "base_uri": "https://localhost:8080/"
        },
        "outputId": "af36d012-ab23-440c-fc2c-7c233499c481"
      },
      "execution_count": null,
      "outputs": [
        {
          "output_type": "stream",
          "name": "stdout",
          "text": [
            "Original array: [ 73  93  94  97  44  81  54  89  11  85  50 100  33  98  35]\n",
            "Modified array: [-1 -1 -1 -1 44 -1 -1 -1 11 -1 50 -1 33 -1 35]\n",
            "Count of replaced values: 10\n"
          ]
        }
      ]
    },
    {
      "cell_type": "code",
      "source": [
        " arr = np.random.rand(5, 4)\n",
        "    print(\"Original array:\\n\", arr)\n",
        "    row_sums = np.sum(arr, axis=1)\n",
        "    max_row_index = np.argmax(row_sums)\n",
        "    print(\"Row with max sum:\", max_row_index)\n",
        "    normalized = arr / arr.sum(axis=1, keepdims=True)\n",
        "    print(\"Normalized array:\\n\", normalized)\n"
      ],
      "metadata": {
        "id": "uQPFI5pDupE6",
        "colab": {
          "base_uri": "https://localhost:8080/"
        },
        "outputId": "2bf57fe2-fcb1-42f2-9638-e35a3cf4696f"
      },
      "execution_count": null,
      "outputs": [
        {
          "output_type": "stream",
          "name": "stdout",
          "text": [
            "Original array:\n",
            " [[0.2454219  0.8735326  0.72333667 0.97557712]\n",
            " [0.56564672 0.44837961 0.97883902 0.79645603]\n",
            " [0.04767225 0.84893003 0.52191601 0.67337162]\n",
            " [0.27083719 0.61607316 0.36036294 0.25789689]\n",
            " [0.14166102 0.91390505 0.39748192 0.27778705]]\n",
            "Row with max sum: 0\n",
            "Normalized array:\n",
            " [[0.08709488 0.30999767 0.25669641 0.34621104]\n",
            " [0.20279008 0.16074864 0.35092371 0.28553756]\n",
            " [0.02278908 0.40581965 0.24949497 0.3218963 ]\n",
            " [0.17993792 0.40930465 0.23941674 0.17134068]\n",
            " [0.08184548 0.52801395 0.22964749 0.16049308]]\n"
          ]
        }
      ]
    },
    {
      "cell_type": "code",
      "source": [
        "    arr = np.array([1, 3, 5, 3, 7, 9, 1, 5, 5])\n",
        "    unique_elements = np.unique(arr)\n",
        "    duplicates = np.array([x for x in unique_elements if np.count_nonzero(arr == x) > 1])\n",
        "    print(\"Unique elements:\", unique_elements)\n",
        "    print(\"Duplicates:\", duplicates)\n"
      ],
      "metadata": {
        "id": "GrcQXa3supAX",
        "colab": {
          "base_uri": "https://localhost:8080/"
        },
        "outputId": "6b330e2d-b24d-45f7-a501-cadf27a5c2a1"
      },
      "execution_count": null,
      "outputs": [
        {
          "output_type": "stream",
          "name": "stdout",
          "text": [
            "Unique elements: [1 3 5 7 9]\n",
            "Duplicates: [1 3 5]\n"
          ]
        }
      ]
    },
    {
      "cell_type": "code",
      "source": [
        "    arr = np.arange(1, 37).reshape(6, 6)\n",
        "    submatrix = arr[1:5, 1:5]\n",
        "    even_numbers = submatrix[submatrix % 2 == 0]\n",
        "    print(\"Original array:\\n\", arr)\n",
        "    print(\"4x4 Middle submatrix:\\n\", submatrix)\n",
        "    print(\"Even numbers in submatrix:\", even_numbers)\n"
      ],
      "metadata": {
        "id": "nzIkGcrSuo_T",
        "colab": {
          "base_uri": "https://localhost:8080/"
        },
        "outputId": "55c7e176-9760-4210-ba29-8d92340da8a3"
      },
      "execution_count": null,
      "outputs": [
        {
          "output_type": "stream",
          "name": "stdout",
          "text": [
            "Original array:\n",
            " [[ 1  2  3  4  5  6]\n",
            " [ 7  8  9 10 11 12]\n",
            " [13 14 15 16 17 18]\n",
            " [19 20 21 22 23 24]\n",
            " [25 26 27 28 29 30]\n",
            " [31 32 33 34 35 36]]\n",
            "4x4 Middle submatrix:\n",
            " [[ 8  9 10 11]\n",
            " [14 15 16 17]\n",
            " [20 21 22 23]\n",
            " [26 27 28 29]]\n",
            "Even numbers in submatrix: [ 8 10 14 16 20 22 26 28]\n"
          ]
        }
      ]
    },
    {
      "cell_type": "code",
      "source": [
        "\n",
        "    arr = np.arange(12).reshape(3, 4)\n",
        "    reshaped_2_6 = arr.reshape(2, 6)\n",
        "    flattened = reshaped_2_6.flatten()\n",
        "    reshaped_4_3 = flattened.reshape(4, 3)\n",
        "    print(\"Original array:\\n\", arr)\n",
        "    print(\"Reshaped to 2x6:\\n\", reshaped_2_6)\n",
        "    print(\"Flattened array:\", flattened)\n",
        "    print(\"Reshaped to 4x3:\\n\", reshaped_4_3)\n"
      ],
      "metadata": {
        "id": "EyqyeeE5uo69",
        "colab": {
          "base_uri": "https://localhost:8080/"
        },
        "outputId": "5f79eee1-91e8-41d3-b913-f87802e30cdb"
      },
      "execution_count": null,
      "outputs": [
        {
          "output_type": "stream",
          "name": "stdout",
          "text": [
            "Original array:\n",
            " [[ 0  1  2  3]\n",
            " [ 4  5  6  7]\n",
            " [ 8  9 10 11]]\n",
            "Reshaped to 2x6:\n",
            " [[ 0  1  2  3  4  5]\n",
            " [ 6  7  8  9 10 11]]\n",
            "Flattened array: [ 0  1  2  3  4  5  6  7  8  9 10 11]\n",
            "Reshaped to 4x3:\n",
            " [[ 0  1  2]\n",
            " [ 3  4  5]\n",
            " [ 6  7  8]\n",
            " [ 9 10 11]]\n"
          ]
        }
      ]
    },
    {
      "cell_type": "code",
      "source": [
        "\n",
        "    a = np.array([[1, 2], [3, 4]])\n",
        "    a = np.append(a, [[5, 6]], axis=0)\n",
        "    a = np.insert(a, a.shape[1], [7, 8, 9], axis=1)\n",
        "    print(\"Array after appending row and column:\\n\", a)\n"
      ],
      "metadata": {
        "id": "EjGwbikUuo55",
        "colab": {
          "base_uri": "https://localhost:8080/"
        },
        "outputId": "ddfb4ae7-2cec-4bcd-8bb9-560a43e4516c"
      },
      "execution_count": null,
      "outputs": [
        {
          "output_type": "stream",
          "name": "stdout",
          "text": [
            "Array after appending row and column:\n",
            " [[1 2 7]\n",
            " [3 4 8]\n",
            " [5 6 9]]\n"
          ]
        }
      ]
    },
    {
      "cell_type": "code",
      "source": [
        "\n",
        "    a = np.array([1, 2, 3])\n",
        "    b = np.array([4, 5, 6])\n",
        "    c = np.array([7, 8, 9])\n",
        "    joined = np.concatenate((a, b, c))\n",
        "    reshaped = joined.reshape(3, 3)\n",
        "    diagonal = np.diag(reshaped)\n",
        "    print(\"Joined array:\", joined)\n",
        "    print(\"Reshaped (3x3):\\n\", reshaped)\n",
        "    print(\"Diagonal elements:\", diagonal)\n"
      ],
      "metadata": {
        "id": "MvVB6xoYuo1J",
        "colab": {
          "base_uri": "https://localhost:8080/"
        },
        "outputId": "2a3a47bb-a487-4835-aa58-2f676a270445"
      },
      "execution_count": null,
      "outputs": [
        {
          "output_type": "stream",
          "name": "stdout",
          "text": [
            "Joined array: [1 2 3 4 5 6 7 8 9]\n",
            "Reshaped (3x3):\n",
            " [[1 2 3]\n",
            " [4 5 6]\n",
            " [7 8 9]]\n",
            "Diagonal elements: [1 5 9]\n"
          ]
        }
      ]
    },
    {
      "cell_type": "code",
      "source": [
        "\n",
        "    arr = np.arange(1, 21)\n",
        "    divisible = arr[(arr % 3 == 0) | (arr % 5 == 0)]\n",
        "    count = divisible.size\n",
        "    print(\"Divisible by 3 or 5:\", divisible)\n",
        "    print(\"Count:\", count)"
      ],
      "metadata": {
        "id": "hMqyMi4Nuo0C",
        "colab": {
          "base_uri": "https://localhost:8080/"
        },
        "outputId": "7e5ef422-fb8c-4945-811b-1098b45d53c0"
      },
      "execution_count": null,
      "outputs": [
        {
          "output_type": "stream",
          "name": "stdout",
          "text": [
            "Divisible by 3 or 5: [ 3  5  6  9 10 12 15 18 20]\n",
            "Count: 9\n"
          ]
        }
      ]
    }
  ]
}